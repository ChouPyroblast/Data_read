{
 "cells": [
  {
   "cell_type": "code",
   "execution_count": 10,
   "metadata": {
    "collapsed": true
   },
   "outputs": [],
   "source": [
    "import read_data1\n",
    "import pandas as pd\n",
    "\n",
    "array = read_data1.read_all_flat(\"/home/yl2404/alignmentStatFiles/\")\n",
    "\n",
    "df = pd.DataFrame(array)\n",
    "\n",
    "df[\"experiment_date\"]=df[\"experiment_date\"].apply(pd.to_datetime)\n",
    "\n",
    "\n",
    "machine_name = df[df[\"machine_name\"].notnull()]\n",
    "ip_address = df[df[\"machine_name\"].isnull()]\n",
    "\n",
    "\n",
    "names = machine_name[\"machine_name\"].unique()\n",
    "for name in names:\n",
    "    tmpdf = machine_name[machine_name[\"machine_name\"]==name]\n",
    "    \n",
    "    tmpdf.sort_values(by=\"experiment_date\").to_csv(name+\".csv\")\n",
    "    \n",
    "names = ip_address[\"host_ip_address\"].unique()\n",
    "\n",
    "for name in names:\n",
    "    if pd.isnull(name):\n",
    "        tmpdf = ip_address[ip_address[\"host_ip_address\"].isnull()]\n",
    "        tmpdf.sort_values(by=\"experiment_date\").to_csv(\"NAN.csv\")\n",
    "    else:\n",
    "        tmpdf = ip_address[ip_address[\"host_ip_address\"]==name]\n",
    "        tmpdf.sort_values(by=\"experiment_date\").to_csv(name +\".csv\")\n"
   ]
  },
  {
   "cell_type": "code",
   "execution_count": 11,
   "metadata": {},
   "outputs": [],
   "source": [
    "names = machine_name[\"machine_name\"].unique()\n",
    "for name in names:\n",
    "    tmpdf = machine_name[machine_name[\"machine_name\"]==name]\n",
    "    tmpdf.sort_values(by=\"experiment_date\").to_csv(name+\".csv\")"
   ]
  },
  {
   "cell_type": "code",
   "execution_count": 12,
   "metadata": {
    "collapsed": true
   },
   "outputs": [],
   "source": [
    "names = ip_address[\"host_ip_address\"].unique()\n",
    "for name in names:\n",
    "    if pd.isnull(name):\n",
    "        tmpdf = ip_address[ip_address[\"host_ip_address\"].isnull()]\n",
    "        tmpdf.sort_values(by=\"experiment_date\").to_csv(\"NAN.csv\")\n",
    "    else:\n",
    "        tmpdf = ip_address[ip_address[\"host_ip_address\"]==name]\n",
    "        tmpdf.sort_values(by=\"experiment_date\").to_csv(name +\".csv\")"
   ]
  },
  {
   "cell_type": "code",
   "execution_count": 13,
   "metadata": {
    "collapsed": true
   },
   "outputs": [],
   "source": [
    "metadata = [\"project_name\",\"sample_name\",\"machine_name\",\"host_ip_address\",\"experiment_date\"]\n",
    "EXPT_parameter = [\"camera_length\",\"specimen_distance\",\"rotation_x\",\"Vert.detector\",\"phi\",\"camera_theta\",\"camera_psi\",\"voxel_size\",\"pixel_size_x\"]\n",
    "AF_parameter = [\"AF.camera_length\",\"AF.specimen_distance\",\"AF.origin_offset_horizontal\",\"AF.origin_offset_vertical\",\"AF.detector_tilt_phi\",\"AF.detector_tilt_theta\",\"AF.detector_tilt_psi\"]\n",
    "Diff_parameter = [\"Camera distance\",\"Sample distance\",\"Hor. detector\",\"Vert.detector\",\"Phi detector\",\"Theta detector\",\"Psi detector\"]"
   ]
  },
  {
   "cell_type": "code",
   "execution_count": 14,
   "metadata": {
    "collapsed": true
   },
   "outputs": [],
   "source": [
    "columns = metadata + EXPT_parameter + AF_parameter"
   ]
  },
  {
   "cell_type": "code",
   "execution_count": 16,
   "metadata": {},
   "outputs": [
    {
     "name": "stderr",
     "output_type": "stream",
     "text": [
      "/home/yl2404/anaconda3/lib/python3.6/site-packages/ipykernel_launcher.py:13: SettingWithCopyWarning: \n",
      "A value is trying to be set on a copy of a slice from a DataFrame.\n",
      "Try using .loc[row_indexer,col_indexer] = value instead\n",
      "\n",
      "See the caveats in the documentation: http://pandas.pydata.org/pandas-docs/stable/indexing.html#indexing-view-versus-copy\n",
      "  del sys.path[0]\n",
      "/home/yl2404/anaconda3/lib/python3.6/site-packages/ipykernel_launcher.py:20: SettingWithCopyWarning: \n",
      "A value is trying to be set on a copy of a slice from a DataFrame.\n",
      "Try using .loc[row_indexer,col_indexer] = value instead\n",
      "\n",
      "See the caveats in the documentation: http://pandas.pydata.org/pandas-docs/stable/indexing.html#indexing-view-versus-copy\n",
      "/home/yl2404/anaconda3/lib/python3.6/site-packages/ipykernel_launcher.py:21: SettingWithCopyWarning: \n",
      "A value is trying to be set on a copy of a slice from a DataFrame.\n",
      "Try using .loc[row_indexer,col_indexer] = value instead\n",
      "\n",
      "See the caveats in the documentation: http://pandas.pydata.org/pandas-docs/stable/indexing.html#indexing-view-versus-copy\n"
     ]
    }
   ],
   "source": [
    "#df[\"experiment_date\"]=df[\"experiment_date\"].apply(pd.to_datetime)\n",
    "\n",
    "df['Vert.detector']= 0\n",
    "df['phi']= 0\n",
    "\n",
    "\n",
    "\n",
    "selected_df = df[columns]\n",
    "\n",
    "sorted_columns = metadata.copy()\n",
    "for i in range(len(Diff_parameter)):\n",
    "    name = \"DIFF-\"+ Diff_parameter[i]\n",
    "    selected_df[name] = selected_df[EXPT_parameter[i]]-selected_df[AF_parameter[i]]\n",
    "    sorted_columns.append(EXPT_parameter[i])\n",
    "    sorted_columns.append(AF_parameter[i])\n",
    "    sorted_columns.append(name)\n",
    "    \n",
    "    \n",
    "\n",
    "selected_df[\"AF.vxsize\"] = selected_df[\"pixel_size_x\"] * selected_df[\"AF.specimen_distance\" ]/ selected_df[\"AF.camera_length\"]\n",
    "selected_df[\"vxsize error\"] =  1 - selected_df[\"AF.vxsize\"] / selected_df[\"voxel_size\"]\n",
    "sorted_columns.append(\"voxel_size\")\n",
    "sorted_columns.append(\"AF.vxsize\")\n",
    "sorted_columns.append(\"vxsize error\")\n",
    "\n",
    "selected_df = selected_df[sorted_columns]\n",
    "\n",
    "machine_name = selected_df[selected_df[\"machine_name\"].notnull()]\n",
    "ip_address = selected_df[selected_df[\"machine_name\"].isnull()]\n",
    "\n",
    "names = machine_name[\"machine_name\"].unique()\n",
    "for name in names:\n",
    "    tmpdf = machine_name[machine_name[\"machine_name\"]==name]\n",
    "    \n",
    "    tmpdf.sort_values(by=\"experiment_date\").to_csv(name+\".csv\")\n",
    "    \n",
    "names = ip_address[\"host_ip_address\"].unique()\n",
    "for name in names:\n",
    "    if pd.isnull(name):\n",
    "        tmpdf = ip_address[ip_address[\"host_ip_address\"].isnull()]\n",
    "        tmpdf.sort_values(by=\"experiment_date\").to_csv(\"NAN.csv\")\n",
    "    else:\n",
    "        tmpdf = ip_address[ip_address[\"host_ip_address\"]==name]\n",
    "        tmpdf.sort_values(by=\"experiment_date\").to_csv(name +\".csv\")"
   ]
  }
 ],
 "metadata": {
  "kernelspec": {
   "display_name": "Python 3",
   "language": "python",
   "name": "python3"
  },
  "language_info": {
   "codemirror_mode": {
    "name": "ipython",
    "version": 3
   },
   "file_extension": ".py",
   "mimetype": "text/x-python",
   "name": "python",
   "nbconvert_exporter": "python",
   "pygments_lexer": "ipython3",
   "version": "3.6.1"
  }
 },
 "nbformat": 4,
 "nbformat_minor": 2
}
